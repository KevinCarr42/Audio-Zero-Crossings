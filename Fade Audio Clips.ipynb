{
 "cells": [
  {
   "cell_type": "code",
   "execution_count": 1,
   "id": "a151a7a7",
   "metadata": {},
   "outputs": [],
   "source": [
    "import numpy as np\n",
    "import soundfile as sf\n",
    "import os"
   ]
  },
  {
   "cell_type": "code",
   "execution_count": 2,
   "id": "89a6828f",
   "metadata": {},
   "outputs": [],
   "source": [
    "# folders\n",
    "to_be_processed = r'D:\\Music (D)\\Samples\\CREATED BY ME\\DRUMS\\SnareDIY2'\n",
    "save_to_folder = r'D:\\Music (D)\\Samples\\CREATED BY ME\\DRUMS\\SnareDIY2\\processed'\n",
    "\n",
    "# fades and crop\n",
    "samples_fade_in = 6  # just enough to avoid clicks from non-zero start of audio\n",
    "samples_fade_out = 15000  # customise this to taste\n",
    "desired_sample_length = 20000  # crop everything after, then fade\n",
    "\n",
    "# naming\n",
    "file_name_prefix = 'SnareDIY2_'\n",
    "zero_padding = 3\n",
    "file_extension = '.wav'\n",
    "\n",
    "# calculated \n",
    "fade_in = np.linspace(0.0, 1.0, samples_fade_in)\n",
    "fade_out = np.linspace(1.0, 0.0, samples_fade_out)"
   ]
  },
  {
   "cell_type": "code",
   "execution_count": 7,
   "id": "00a51e34",
   "metadata": {},
   "outputs": [
    {
     "name": "stdout",
     "output_type": "stream",
     "text": [
      "Wall time: 9.28 s\n"
     ]
    }
   ],
   "source": [
    "%%time\n",
    "for file in os.listdir(to_be_processed):\n",
    "    \n",
    "    # skip files that aren't .wav file format\n",
    "    if file[-3:] != 'wav':\n",
    "        continue\n",
    "        \n",
    "    # read in data\n",
    "    current_file = os.fsdecode(file)\n",
    "    current_idx = current_file.split(' ')[1]  # standard Ableton slicing filename structure\n",
    "    full_path = os.path.join(to_be_processed, current_file)\n",
    "    data, sample_rate = sf.read(full_path)\n",
    "    \n",
    "    # fade in and fade out\n",
    "    data = data[0:desired_sample_length]\n",
    "    data[0:samples_fade_in] = data[0:samples_fade_in] * fade_in[:, None]\n",
    "    data[(data.shape[0]-samples_fade_out):data.shape[0]] = data[(data.shape[0]-samples_fade_out):data.shape[0]] * fade_out[:, None]\n",
    "    \n",
    "    # save the audio file\n",
    "    output_name = file_name_prefix + current_idx.zfill(zero_padding) + file_extension\n",
    "    sf.write(os.path.join(save_to_folder, output_name), data, sample_rate)"
   ]
  }
 ],
 "metadata": {
  "kernelspec": {
   "display_name": "Python 3 (ipykernel)",
   "language": "python",
   "name": "python3"
  },
  "language_info": {
   "codemirror_mode": {
    "name": "ipython",
    "version": 3
   },
   "file_extension": ".py",
   "mimetype": "text/x-python",
   "name": "python",
   "nbconvert_exporter": "python",
   "pygments_lexer": "ipython3",
   "version": "3.9.7"
  }
 },
 "nbformat": 4,
 "nbformat_minor": 5
}
